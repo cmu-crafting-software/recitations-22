{
 "cells": [
  {
   "cell_type": "markdown",
   "metadata": {},
   "source": [
    "# Recitation 6 - Pandas aggregation and grouping\n",
    "\n",
    "22/02/25\n",
    "_Wode \"Nimo\" Ni_"
   ]
  },
  {
   "cell_type": "markdown",
   "metadata": {},
   "source": [
    "First, let's load the [2021 stack overflow developer survey](https://insights.stackoverflow.com/survey/2021) data."
   ]
  },
  {
   "cell_type": "code",
<<<<<<< HEAD
   "execution_count": 2,
=======
   "execution_count": 184,
>>>>>>> origin
   "metadata": {},
   "outputs": [],
   "source": [
    "# imports and setup\n",
    "\n",
    "import pandas as pd\n",
    "\n",
    "\n",
    "pd.set_option('display.max_rows', 50)\n"
   ]
  },
  {
   "cell_type": "code",
<<<<<<< HEAD
   "execution_count": 3,
=======
   "execution_count": 185,
>>>>>>> origin
   "metadata": {},
   "outputs": [
    {
     "data": {
      "text/html": [
       "<div>\n",
       "<style scoped>\n",
       "    .dataframe tbody tr th:only-of-type {\n",
       "        vertical-align: middle;\n",
       "    }\n",
       "\n",
       "    .dataframe tbody tr th {\n",
       "        vertical-align: top;\n",
       "    }\n",
       "\n",
       "    .dataframe thead th {\n",
       "        text-align: right;\n",
       "    }\n",
       "</style>\n",
       "<table border=\"1\" class=\"dataframe\">\n",
       "  <thead>\n",
       "    <tr style=\"text-align: right;\">\n",
       "      <th></th>\n",
       "      <th>ResponseId</th>\n",
       "      <th>MainBranch</th>\n",
       "      <th>Employment</th>\n",
       "      <th>Country</th>\n",
       "      <th>US_State</th>\n",
       "      <th>UK_Country</th>\n",
       "      <th>EdLevel</th>\n",
       "      <th>Age1stCode</th>\n",
       "      <th>LearnCode</th>\n",
       "      <th>YearsCode</th>\n",
       "      <th>...</th>\n",
       "      <th>Age</th>\n",
       "      <th>Gender</th>\n",
       "      <th>Trans</th>\n",
       "      <th>Sexuality</th>\n",
       "      <th>Ethnicity</th>\n",
       "      <th>Accessibility</th>\n",
       "      <th>MentalHealth</th>\n",
       "      <th>SurveyLength</th>\n",
       "      <th>SurveyEase</th>\n",
       "      <th>ConvertedCompYearly</th>\n",
       "    </tr>\n",
       "  </thead>\n",
       "  <tbody>\n",
       "    <tr>\n",
       "      <th>0</th>\n",
       "      <td>1</td>\n",
       "      <td>I am a developer by profession</td>\n",
       "      <td>Independent contractor, freelancer, or self-em...</td>\n",
       "      <td>Slovakia</td>\n",
       "      <td>NaN</td>\n",
       "      <td>NaN</td>\n",
       "      <td>Secondary school (e.g. American high school, G...</td>\n",
       "      <td>18 - 24 years</td>\n",
       "      <td>Coding Bootcamp;Other online resources (ex: vi...</td>\n",
       "      <td>NaN</td>\n",
       "      <td>...</td>\n",
       "      <td>25-34 years old</td>\n",
       "      <td>Man</td>\n",
       "      <td>No</td>\n",
       "      <td>Straight / Heterosexual</td>\n",
       "      <td>White or of European descent</td>\n",
       "      <td>None of the above</td>\n",
       "      <td>None of the above</td>\n",
       "      <td>Appropriate in length</td>\n",
       "      <td>Easy</td>\n",
       "      <td>62268.0</td>\n",
       "    </tr>\n",
       "    <tr>\n",
       "      <th>1</th>\n",
       "      <td>2</td>\n",
       "      <td>I am a student who is learning to code</td>\n",
       "      <td>Student, full-time</td>\n",
       "      <td>Netherlands</td>\n",
       "      <td>NaN</td>\n",
       "      <td>NaN</td>\n",
       "      <td>Bachelor’s degree (B.A., B.S., B.Eng., etc.)</td>\n",
       "      <td>11 - 17 years</td>\n",
       "      <td>Other online resources (ex: videos, blogs, etc...</td>\n",
       "      <td>7</td>\n",
       "      <td>...</td>\n",
       "      <td>18-24 years old</td>\n",
       "      <td>Man</td>\n",
       "      <td>No</td>\n",
       "      <td>Straight / Heterosexual</td>\n",
       "      <td>White or of European descent</td>\n",
       "      <td>None of the above</td>\n",
       "      <td>None of the above</td>\n",
       "      <td>Appropriate in length</td>\n",
       "      <td>Easy</td>\n",
       "      <td>NaN</td>\n",
       "    </tr>\n",
       "    <tr>\n",
       "      <th>2</th>\n",
       "      <td>3</td>\n",
       "      <td>I am not primarily a developer, but I write co...</td>\n",
       "      <td>Student, full-time</td>\n",
       "      <td>Russian Federation</td>\n",
       "      <td>NaN</td>\n",
       "      <td>NaN</td>\n",
       "      <td>Bachelor’s degree (B.A., B.S., B.Eng., etc.)</td>\n",
       "      <td>11 - 17 years</td>\n",
       "      <td>Other online resources (ex: videos, blogs, etc...</td>\n",
       "      <td>NaN</td>\n",
       "      <td>...</td>\n",
       "      <td>18-24 years old</td>\n",
       "      <td>Man</td>\n",
       "      <td>No</td>\n",
       "      <td>Prefer not to say</td>\n",
       "      <td>Prefer not to say</td>\n",
       "      <td>None of the above</td>\n",
       "      <td>None of the above</td>\n",
       "      <td>Appropriate in length</td>\n",
       "      <td>Easy</td>\n",
       "      <td>NaN</td>\n",
       "    </tr>\n",
       "    <tr>\n",
       "      <th>3</th>\n",
       "      <td>4</td>\n",
       "      <td>I am a developer by profession</td>\n",
       "      <td>Employed full-time</td>\n",
       "      <td>Austria</td>\n",
       "      <td>NaN</td>\n",
       "      <td>NaN</td>\n",
       "      <td>Master’s degree (M.A., M.S., M.Eng., MBA, etc.)</td>\n",
       "      <td>11 - 17 years</td>\n",
       "      <td>NaN</td>\n",
       "      <td>NaN</td>\n",
       "      <td>...</td>\n",
       "      <td>35-44 years old</td>\n",
       "      <td>Man</td>\n",
       "      <td>No</td>\n",
       "      <td>Straight / Heterosexual</td>\n",
       "      <td>White or of European descent</td>\n",
       "      <td>I am deaf / hard of hearing</td>\n",
       "      <td>NaN</td>\n",
       "      <td>Appropriate in length</td>\n",
       "      <td>Neither easy nor difficult</td>\n",
       "      <td>NaN</td>\n",
       "    </tr>\n",
       "    <tr>\n",
       "      <th>4</th>\n",
       "      <td>5</td>\n",
       "      <td>I am a developer by profession</td>\n",
       "      <td>Independent contractor, freelancer, or self-em...</td>\n",
       "      <td>United Kingdom of Great Britain and Northern I...</td>\n",
       "      <td>NaN</td>\n",
       "      <td>England</td>\n",
       "      <td>Master’s degree (M.A., M.S., M.Eng., MBA, etc.)</td>\n",
       "      <td>5 - 10 years</td>\n",
       "      <td>Friend or family member</td>\n",
       "      <td>17</td>\n",
       "      <td>...</td>\n",
       "      <td>25-34 years old</td>\n",
       "      <td>Man</td>\n",
       "      <td>No</td>\n",
       "      <td>NaN</td>\n",
       "      <td>White or of European descent</td>\n",
       "      <td>None of the above</td>\n",
       "      <td>NaN</td>\n",
       "      <td>Appropriate in length</td>\n",
       "      <td>Easy</td>\n",
       "      <td>NaN</td>\n",
       "    </tr>\n",
       "  </tbody>\n",
       "</table>\n",
       "<p>5 rows × 48 columns</p>\n",
       "</div>"
      ],
      "text/plain": [
       "   ResponseId                                         MainBranch  \\\n",
       "0           1                     I am a developer by profession   \n",
       "1           2             I am a student who is learning to code   \n",
       "2           3  I am not primarily a developer, but I write co...   \n",
       "3           4                     I am a developer by profession   \n",
       "4           5                     I am a developer by profession   \n",
       "\n",
       "                                          Employment  \\\n",
       "0  Independent contractor, freelancer, or self-em...   \n",
       "1                                 Student, full-time   \n",
       "2                                 Student, full-time   \n",
       "3                                 Employed full-time   \n",
       "4  Independent contractor, freelancer, or self-em...   \n",
       "\n",
       "                                             Country US_State UK_Country  \\\n",
       "0                                           Slovakia      NaN        NaN   \n",
       "1                                        Netherlands      NaN        NaN   \n",
       "2                                 Russian Federation      NaN        NaN   \n",
       "3                                            Austria      NaN        NaN   \n",
       "4  United Kingdom of Great Britain and Northern I...      NaN    England   \n",
       "\n",
       "                                             EdLevel     Age1stCode  \\\n",
       "0  Secondary school (e.g. American high school, G...  18 - 24 years   \n",
       "1       Bachelor’s degree (B.A., B.S., B.Eng., etc.)  11 - 17 years   \n",
       "2       Bachelor’s degree (B.A., B.S., B.Eng., etc.)  11 - 17 years   \n",
       "3    Master’s degree (M.A., M.S., M.Eng., MBA, etc.)  11 - 17 years   \n",
       "4    Master’s degree (M.A., M.S., M.Eng., MBA, etc.)   5 - 10 years   \n",
       "\n",
       "                                           LearnCode YearsCode  ...  \\\n",
       "0  Coding Bootcamp;Other online resources (ex: vi...       NaN  ...   \n",
       "1  Other online resources (ex: videos, blogs, etc...         7  ...   \n",
       "2  Other online resources (ex: videos, blogs, etc...       NaN  ...   \n",
       "3                                                NaN       NaN  ...   \n",
       "4                            Friend or family member        17  ...   \n",
       "\n",
       "               Age Gender Trans                Sexuality  \\\n",
       "0  25-34 years old    Man    No  Straight / Heterosexual   \n",
       "1  18-24 years old    Man    No  Straight / Heterosexual   \n",
       "2  18-24 years old    Man    No        Prefer not to say   \n",
       "3  35-44 years old    Man    No  Straight / Heterosexual   \n",
       "4  25-34 years old    Man    No                      NaN   \n",
       "\n",
       "                      Ethnicity                Accessibility  \\\n",
       "0  White or of European descent            None of the above   \n",
       "1  White or of European descent            None of the above   \n",
       "2             Prefer not to say            None of the above   \n",
       "3  White or of European descent  I am deaf / hard of hearing   \n",
       "4  White or of European descent            None of the above   \n",
       "\n",
       "        MentalHealth           SurveyLength                  SurveyEase  \\\n",
       "0  None of the above  Appropriate in length                        Easy   \n",
       "1  None of the above  Appropriate in length                        Easy   \n",
       "2  None of the above  Appropriate in length                        Easy   \n",
       "3                NaN  Appropriate in length  Neither easy nor difficult   \n",
       "4                NaN  Appropriate in length                        Easy   \n",
       "\n",
       "  ConvertedCompYearly  \n",
       "0             62268.0  \n",
       "1                 NaN  \n",
       "2                 NaN  \n",
       "3                 NaN  \n",
       "4                 NaN  \n",
       "\n",
       "[5 rows x 48 columns]"
      ]
     },
<<<<<<< HEAD
     "execution_count": 3,
=======
     "execution_count": 185,
>>>>>>> origin
     "metadata": {},
     "output_type": "execute_result"
    }
   ],
   "source": [
    "# load original SO survey result\n",
    "survey_result = pd.read_csv('stack-overflow-developer-survey-2021/survey_results_public.csv')\n",
    "survey_result.head()"
   ]
  },
  {
   "cell_type": "markdown",
   "metadata": {},
   "source": [
    "Below is some data cleaning that Nimo had to painfully do, feel free to ask questions about this painful process if you are curious."
   ]
  },
  {
   "cell_type": "code",
<<<<<<< HEAD
   "execution_count": 4,
=======
   "execution_count": 186,
>>>>>>> origin
   "metadata": {},
   "outputs": [],
   "source": [
    "# years coding converstion\n",
    "survey_result['YearsCode'] = pd.to_numeric(survey_result['YearsCode'], errors='coerce')\n",
    "# split the string into lists\n",
    "d = survey_result['LearnCode'].str.split(\";\")\n",
    "# clean up null data\n",
    "d.loc[d.isnull()] = d.loc[d.isnull()].apply(lambda x: [])\n",
    "# find all survey options\n",
    "survey_options = pd.Series(d).explode().unique().tolist()\n",
    "# one hot encoding of the learn code question\n",
    "learn_code_ans = pd.DataFrame(columns=survey_options)\n",
    "for option in survey_options:\n",
    "  learn_code_ans[option] = d.apply(lambda x: option in x)\n",
    "survey_result = survey_result.join(learn_code_ans)"
   ]
  },
  {
   "cell_type": "markdown",
   "metadata": {},
   "source": [
    "Let's do some basic aggregation functions:"
   ]
  },
  {
   "cell_type": "code",
<<<<<<< HEAD
   "execution_count": 4,
=======
   "execution_count": 187,
>>>>>>> origin
   "metadata": {},
   "outputs": [
    {
     "data": {
      "text/plain": [
       "12.485721787402165"
      ]
     },
<<<<<<< HEAD
     "execution_count": 4,
=======
     "execution_count": 187,
>>>>>>> origin
     "metadata": {},
     "output_type": "execute_result"
    }
   ],
   "source": [
    "# How many years have they been coding (mean, median)?\n",
<<<<<<< HEAD
    "survey_result['YearsCode'].mean()\n"
=======
    "survey_result['YearsCode'].mean()"
>>>>>>> origin
   ]
  },
  {
   "cell_type": "code",
<<<<<<< HEAD
   "execution_count": 7,
=======
   "execution_count": 188,
>>>>>>> origin
   "metadata": {},
   "outputs": [
    {
     "data": {
      "text/plain": [
<<<<<<< HEAD
       "25-34 years old       0.395209\n",
       "18-24 years old       0.254748\n",
       "35-44 years old       0.184244\n",
       "45-54 years old       0.066402\n",
       "Under 18 years old    0.065237\n",
       "55-64 years old       0.022073\n",
       "Prefer not to say     0.006978\n",
       "65 years or older     0.005109\n",
       "Name: Age, dtype: float64"
      ]
     },
     "execution_count": 7,
=======
       "25-34 years old       32568\n",
       "18-24 years old       20993\n",
       "35-44 years old       15183\n",
       "45-54 years old        5472\n",
       "Under 18 years old     5376\n",
       "55-64 years old        1819\n",
       "Prefer not to say       575\n",
       "65 years or older       421\n",
       "Name: Age, dtype: int64"
      ]
     },
     "execution_count": 188,
>>>>>>> origin
     "metadata": {},
     "output_type": "execute_result"
    }
   ],
   "source": [
    "# What's the age distribution of developers (value counts)?\n",
<<<<<<< HEAD
    "survey_result['Age'].value_counts(normalize=True)"
=======
    "survey_result['Age'].value_counts()"
>>>>>>> origin
   ]
  },
  {
   "cell_type": "code",
<<<<<<< HEAD
   "execution_count": 9,
=======
   "execution_count": 189,
>>>>>>> origin
   "metadata": {},
   "outputs": [
    {
     "data": {
<<<<<<< HEAD
      "text/plain": [
       "Age\n",
       "18-24 years old        5.796418\n",
       "25-34 years old       10.372239\n",
       "35-44 years old       19.444176\n",
       "45-54 years old       29.385217\n",
       "55-64 years old       35.628066\n",
       "65 years or older     37.573427\n",
       "Prefer not to say     11.279070\n",
       "Under 18 years old     4.062889\n",
       "Name: YearsCode, dtype: float64"
      ]
     },
     "execution_count": 9,
=======
      "text/html": [
       "<div>\n",
       "<style scoped>\n",
       "    .dataframe tbody tr th:only-of-type {\n",
       "        vertical-align: middle;\n",
       "    }\n",
       "\n",
       "    .dataframe tbody tr th {\n",
       "        vertical-align: top;\n",
       "    }\n",
       "\n",
       "    .dataframe thead th {\n",
       "        text-align: right;\n",
       "    }\n",
       "</style>\n",
       "<table border=\"1\" class=\"dataframe\">\n",
       "  <thead>\n",
       "    <tr style=\"text-align: right;\">\n",
       "      <th></th>\n",
       "      <th>YearsCode</th>\n",
       "    </tr>\n",
       "    <tr>\n",
       "      <th>Age</th>\n",
       "      <th></th>\n",
       "    </tr>\n",
       "  </thead>\n",
       "  <tbody>\n",
       "    <tr>\n",
       "      <th>18-24 years old</th>\n",
       "      <td>5.796418</td>\n",
       "    </tr>\n",
       "    <tr>\n",
       "      <th>25-34 years old</th>\n",
       "      <td>10.372239</td>\n",
       "    </tr>\n",
       "    <tr>\n",
       "      <th>35-44 years old</th>\n",
       "      <td>19.444176</td>\n",
       "    </tr>\n",
       "    <tr>\n",
       "      <th>45-54 years old</th>\n",
       "      <td>29.385217</td>\n",
       "    </tr>\n",
       "    <tr>\n",
       "      <th>55-64 years old</th>\n",
       "      <td>35.628066</td>\n",
       "    </tr>\n",
       "    <tr>\n",
       "      <th>65 years or older</th>\n",
       "      <td>37.573427</td>\n",
       "    </tr>\n",
       "    <tr>\n",
       "      <th>Prefer not to say</th>\n",
       "      <td>11.279070</td>\n",
       "    </tr>\n",
       "    <tr>\n",
       "      <th>Under 18 years old</th>\n",
       "      <td>4.062889</td>\n",
       "    </tr>\n",
       "  </tbody>\n",
       "</table>\n",
       "</div>"
      ],
      "text/plain": [
       "                    YearsCode\n",
       "Age                          \n",
       "18-24 years old      5.796418\n",
       "25-34 years old     10.372239\n",
       "35-44 years old     19.444176\n",
       "45-54 years old     29.385217\n",
       "55-64 years old     35.628066\n",
       "65 years or older   37.573427\n",
       "Prefer not to say   11.279070\n",
       "Under 18 years old   4.062889"
      ]
     },
     "execution_count": 189,
>>>>>>> origin
     "metadata": {},
     "output_type": "execute_result"
    }
   ],
   "source": [
    "# How does the first question break down by age (groupby)?\n",
<<<<<<< HEAD
    "survey_result.groupby('Age')['YearsCode'].mean()"
=======
    "age_group = survey_result.groupby('Age')\n",
    "pd.DataFrame(age_group['YearsCode'].mean())\n"
>>>>>>> origin
   ]
  },
  {
   "cell_type": "markdown",
   "metadata": {},
   "source": [
    "So, what's this `groupby` magic? \n",
    "* Splitting : It is a process in which we split data into group by applying some conditions on datasets.\n",
    "* Applying : It is a process in which we apply a function to each group independently\n",
    "* Combining : It is a process in which we combine different datasets after applying groupby and results into a data structure"
   ]
  },
  {
   "cell_type": "code",
<<<<<<< HEAD
   "execution_count": 11,
=======
   "execution_count": 190,
>>>>>>> origin
   "metadata": {},
   "outputs": [
    {
     "data": {
<<<<<<< HEAD
      "text/plain": [
       "Age                 Age1stCode          \n",
       "18-24 years old     11 - 17 years           0.620185\n",
       "                    18 - 24 years           0.268783\n",
       "                    5 - 10 years            0.096491\n",
       "                    Younger than 5 years    0.013682\n",
       "                    25 - 34 years           0.000572\n",
       "                                              ...   \n",
       "Under 18 years old  Older than 64 years     0.000932\n",
       "                    25 - 34 years           0.000186\n",
       "                    35 - 44 years           0.000186\n",
       "                    45 - 54 years           0.000186\n",
       "                    55 - 64 years           0.000186\n",
       "Name: Age1stCode, Length: 69, dtype: float64"
      ]
     },
     "execution_count": 11,
=======
      "text/html": [
       "<div>\n",
       "<style scoped>\n",
       "    .dataframe tbody tr th:only-of-type {\n",
       "        vertical-align: middle;\n",
       "    }\n",
       "\n",
       "    .dataframe tbody tr th {\n",
       "        vertical-align: top;\n",
       "    }\n",
       "\n",
       "    .dataframe thead th {\n",
       "        text-align: right;\n",
       "    }\n",
       "</style>\n",
       "<table border=\"1\" class=\"dataframe\">\n",
       "  <thead>\n",
       "    <tr style=\"text-align: right;\">\n",
       "      <th></th>\n",
       "      <th></th>\n",
       "      <th>Age1stCode</th>\n",
       "    </tr>\n",
       "    <tr>\n",
       "      <th>Age</th>\n",
       "      <th>Age1stCode</th>\n",
       "      <th></th>\n",
       "    </tr>\n",
       "  </thead>\n",
       "  <tbody>\n",
       "    <tr>\n",
       "      <th rowspan=\"8\" valign=\"top\">18-24 years old</th>\n",
       "      <th>11 - 17 years</th>\n",
       "      <td>13009</td>\n",
       "    </tr>\n",
       "    <tr>\n",
       "      <th>18 - 24 years</th>\n",
       "      <td>5638</td>\n",
       "    </tr>\n",
       "    <tr>\n",
       "      <th>5 - 10 years</th>\n",
       "      <td>2024</td>\n",
       "    </tr>\n",
       "    <tr>\n",
       "      <th>Younger than 5 years</th>\n",
       "      <td>287</td>\n",
       "    </tr>\n",
       "    <tr>\n",
       "      <th>25 - 34 years</th>\n",
       "      <td>12</td>\n",
       "    </tr>\n",
       "    <tr>\n",
       "      <th>Older than 64 years</th>\n",
       "      <td>3</td>\n",
       "    </tr>\n",
       "    <tr>\n",
       "      <th>55 - 64 years</th>\n",
       "      <td>2</td>\n",
       "    </tr>\n",
       "    <tr>\n",
       "      <th>35 - 44 years</th>\n",
       "      <td>1</td>\n",
       "    </tr>\n",
       "    <tr>\n",
       "      <th rowspan=\"7\" valign=\"top\">25-34 years old</th>\n",
       "      <th>11 - 17 years</th>\n",
       "      <td>16572</td>\n",
       "    </tr>\n",
       "    <tr>\n",
       "      <th>18 - 24 years</th>\n",
       "      <td>10058</td>\n",
       "    </tr>\n",
       "    <tr>\n",
       "      <th>25 - 34 years</th>\n",
       "      <td>2938</td>\n",
       "    </tr>\n",
       "    <tr>\n",
       "      <th>5 - 10 years</th>\n",
       "      <td>2685</td>\n",
       "    </tr>\n",
       "    <tr>\n",
       "      <th>Younger than 5 years</th>\n",
       "      <td>272</td>\n",
       "    </tr>\n",
       "    <tr>\n",
       "      <th>35 - 44 years</th>\n",
       "      <td>9</td>\n",
       "    </tr>\n",
       "    <tr>\n",
       "      <th>Older than 64 years</th>\n",
       "      <td>4</td>\n",
       "    </tr>\n",
       "    <tr>\n",
       "      <th rowspan=\"9\" valign=\"top\">35-44 years old</th>\n",
       "      <th>11 - 17 years</th>\n",
       "      <td>7248</td>\n",
       "    </tr>\n",
       "    <tr>\n",
       "      <th>5 - 10 years</th>\n",
       "      <td>3033</td>\n",
       "    </tr>\n",
       "    <tr>\n",
       "      <th>18 - 24 years</th>\n",
       "      <td>2761</td>\n",
       "    </tr>\n",
       "    <tr>\n",
       "      <th>35 - 44 years</th>\n",
       "      <td>1148</td>\n",
       "    </tr>\n",
       "    <tr>\n",
       "      <th>25 - 34 years</th>\n",
       "      <td>818</td>\n",
       "    </tr>\n",
       "    <tr>\n",
       "      <th>Younger than 5 years</th>\n",
       "      <td>147</td>\n",
       "    </tr>\n",
       "    <tr>\n",
       "      <th>45 - 54 years</th>\n",
       "      <td>4</td>\n",
       "    </tr>\n",
       "    <tr>\n",
       "      <th>55 - 64 years</th>\n",
       "      <td>4</td>\n",
       "    </tr>\n",
       "    <tr>\n",
       "      <th>Older than 64 years</th>\n",
       "      <td>2</td>\n",
       "    </tr>\n",
       "    <tr>\n",
       "      <th rowspan=\"9\" valign=\"top\">45-54 years old</th>\n",
       "      <th>11 - 17 years</th>\n",
       "      <td>2819</td>\n",
       "    </tr>\n",
       "    <tr>\n",
       "      <th>5 - 10 years</th>\n",
       "      <td>1258</td>\n",
       "    </tr>\n",
       "    <tr>\n",
       "      <th>18 - 24 years</th>\n",
       "      <td>593</td>\n",
       "    </tr>\n",
       "    <tr>\n",
       "      <th>45 - 54 years</th>\n",
       "      <td>499</td>\n",
       "    </tr>\n",
       "    <tr>\n",
       "      <th>25 - 34 years</th>\n",
       "      <td>191</td>\n",
       "    </tr>\n",
       "    <tr>\n",
       "      <th>35 - 44 years</th>\n",
       "      <td>90</td>\n",
       "    </tr>\n",
       "    <tr>\n",
       "      <th>Younger than 5 years</th>\n",
       "      <td>17</td>\n",
       "    </tr>\n",
       "    <tr>\n",
       "      <th>55 - 64 years</th>\n",
       "      <td>2</td>\n",
       "    </tr>\n",
       "    <tr>\n",
       "      <th>Older than 64 years</th>\n",
       "      <td>1</td>\n",
       "    </tr>\n",
       "    <tr>\n",
       "      <th rowspan=\"9\" valign=\"top\">55-64 years old</th>\n",
       "      <th>11 - 17 years</th>\n",
       "      <td>887</td>\n",
       "    </tr>\n",
       "    <tr>\n",
       "      <th>18 - 24 years</th>\n",
       "      <td>499</td>\n",
       "    </tr>\n",
       "    <tr>\n",
       "      <th>55 - 64 years</th>\n",
       "      <td>222</td>\n",
       "    </tr>\n",
       "    <tr>\n",
       "      <th>25 - 34 years</th>\n",
       "      <td>105</td>\n",
       "    </tr>\n",
       "    <tr>\n",
       "      <th>5 - 10 years</th>\n",
       "      <td>41</td>\n",
       "    </tr>\n",
       "    <tr>\n",
       "      <th>35 - 44 years</th>\n",
       "      <td>33</td>\n",
       "    </tr>\n",
       "    <tr>\n",
       "      <th>45 - 54 years</th>\n",
       "      <td>23</td>\n",
       "    </tr>\n",
       "    <tr>\n",
       "      <th>Younger than 5 years</th>\n",
       "      <td>3</td>\n",
       "    </tr>\n",
       "    <tr>\n",
       "      <th>Older than 64 years</th>\n",
       "      <td>2</td>\n",
       "    </tr>\n",
       "    <tr>\n",
       "      <th rowspan=\"8\" valign=\"top\">65 years or older</th>\n",
       "      <th>18 - 24 years</th>\n",
       "      <td>181</td>\n",
       "    </tr>\n",
       "    <tr>\n",
       "      <th>11 - 17 years</th>\n",
       "      <td>97</td>\n",
       "    </tr>\n",
       "    <tr>\n",
       "      <th>25 - 34 years</th>\n",
       "      <td>60</td>\n",
       "    </tr>\n",
       "    <tr>\n",
       "      <th>Older than 64 years</th>\n",
       "      <td>50</td>\n",
       "    </tr>\n",
       "    <tr>\n",
       "      <th>35 - 44 years</th>\n",
       "      <td>12</td>\n",
       "    </tr>\n",
       "    <tr>\n",
       "      <th>55 - 64 years</th>\n",
       "      <td>6</td>\n",
       "    </tr>\n",
       "    <tr>\n",
       "      <th>Younger than 5 years</th>\n",
       "      <td>6</td>\n",
       "    </tr>\n",
       "    <tr>\n",
       "      <th>45 - 54 years</th>\n",
       "      <td>5</td>\n",
       "    </tr>\n",
       "  </tbody>\n",
       "</table>\n",
       "</div>"
      ],
      "text/plain": [
       "                                        Age1stCode\n",
       "Age               Age1stCode                      \n",
       "18-24 years old   11 - 17 years              13009\n",
       "                  18 - 24 years               5638\n",
       "                  5 - 10 years                2024\n",
       "                  Younger than 5 years         287\n",
       "                  25 - 34 years                 12\n",
       "                  Older than 64 years            3\n",
       "                  55 - 64 years                  2\n",
       "                  35 - 44 years                  1\n",
       "25-34 years old   11 - 17 years              16572\n",
       "                  18 - 24 years              10058\n",
       "                  25 - 34 years               2938\n",
       "                  5 - 10 years                2685\n",
       "                  Younger than 5 years         272\n",
       "                  35 - 44 years                  9\n",
       "                  Older than 64 years            4\n",
       "35-44 years old   11 - 17 years               7248\n",
       "                  5 - 10 years                3033\n",
       "                  18 - 24 years               2761\n",
       "                  35 - 44 years               1148\n",
       "                  25 - 34 years                818\n",
       "                  Younger than 5 years         147\n",
       "                  45 - 54 years                  4\n",
       "                  55 - 64 years                  4\n",
       "                  Older than 64 years            2\n",
       "45-54 years old   11 - 17 years               2819\n",
       "                  5 - 10 years                1258\n",
       "                  18 - 24 years                593\n",
       "                  45 - 54 years                499\n",
       "                  25 - 34 years                191\n",
       "                  35 - 44 years                 90\n",
       "                  Younger than 5 years          17\n",
       "                  55 - 64 years                  2\n",
       "                  Older than 64 years            1\n",
       "55-64 years old   11 - 17 years                887\n",
       "                  18 - 24 years                499\n",
       "                  55 - 64 years                222\n",
       "                  25 - 34 years                105\n",
       "                  5 - 10 years                  41\n",
       "                  35 - 44 years                 33\n",
       "                  45 - 54 years                 23\n",
       "                  Younger than 5 years           3\n",
       "                  Older than 64 years            2\n",
       "65 years or older 18 - 24 years                181\n",
       "                  11 - 17 years                 97\n",
       "                  25 - 34 years                 60\n",
       "                  Older than 64 years           50\n",
       "                  35 - 44 years                 12\n",
       "                  55 - 64 years                  6\n",
       "                  Younger than 5 years           6\n",
       "                  45 - 54 years                  5"
      ]
     },
     "execution_count": 190,
>>>>>>> origin
     "metadata": {},
     "output_type": "execute_result"
    }
   ],
   "source": [
    "# Learning how to code, by age\n",
<<<<<<< HEAD
    "agegroup = survey_result.groupby('Age')\n",
    "agegroup['Age1stCode'].value_counts(normalize=True)"
=======
    "pd.DataFrame(age_group[\"Age1stCode\"].value_counts()).head(50)"
>>>>>>> origin
   ]
  },
  {
   "cell_type": "markdown",
   "metadata": {},
   "source": [
    "Now, let's see how people are learning how to code. I preprocessed the dataset so individual options are available for that survey question. The end goal is to re-create [this visualization](https://insights.stackoverflow.com/survey/2021#stack-overflow-site-use-so-comm-age)."
   ]
  },
  {
   "cell_type": "code",
<<<<<<< HEAD
   "execution_count": 12,
   "metadata": {},
   "outputs": [
    {
     "data": {
      "text/plain": [
       "<AxesSubplot:xlabel='Age'>"
      ]
     },
     "execution_count": 12,
     "metadata": {},
     "output_type": "execute_result"
    },
    {
     "data": {
      "image/png": "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\n",
      "text/plain": [
       "<Figure size 432x288 with 1 Axes>"
      ]
     },
     "metadata": {
      "needs_background": "light"
     },
     "output_type": "display_data"
    }
   ],
   "source": [
    "sums = survey_result.groupby('Age')[survey_options].sum()\n",
    "sums['total'] = sums[survey_options].sum(axis=1)\n",
    "result = sums[survey_options].apply(lambda col: col / sums['total'])\n",
    "result.plot(kind='bar')"
   ]
  },
  {
   "cell_type": "code",
   "execution_count": null,
=======
   "execution_count": 191,
>>>>>>> origin
   "metadata": {},
   "outputs": [
    {
     "data": {
      "text/plain": [
       "['Coding Bootcamp',\n",
       " 'Other online resources (ex: videos, blogs, etc)',\n",
       " 'School',\n",
       " 'Online Forum',\n",
       " nan,\n",
       " 'Friend or family member',\n",
       " 'Online Courses or Certification',\n",
       " 'Other (please specify):',\n",
       " 'Colleague',\n",
       " 'Books / Physical media']"
      ]
     },
     "execution_count": 191,
     "metadata": {},
     "output_type": "execute_result"
    }
   ],
   "source": [
    "survey_result_expanded\n",
    "survey_options"
   ]
  }
 ],
 "metadata": {
  "interpreter": {
   "hash": "dff36b0f90209937c46060091cf129a7f41a765f6c6d3dfe113b02433040d55e"
  },
  "kernelspec": {
   "display_name": "Python 3 (ipykernel)",
   "language": "python",
   "name": "python3"
  },
  "language_info": {
   "codemirror_mode": {
    "name": "ipython",
    "version": 3
   },
   "file_extension": ".py",
   "mimetype": "text/x-python",
   "name": "python",
   "nbconvert_exporter": "python",
   "pygments_lexer": "ipython3",
   "version": "3.10.2"
  }
 },
 "nbformat": 4,
 "nbformat_minor": 4
}
